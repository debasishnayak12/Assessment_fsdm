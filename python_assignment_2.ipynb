{
 "cells": [
  {
   "cell_type": "markdown",
   "id": "d2a26f0a",
   "metadata": {},
   "source": [
    "#  1."
   ]
  },
  {
   "cell_type": "markdown",
   "id": "ebf90fa9",
   "metadata": {},
   "source": [
    "Values are ; ['hello',-87.8,6] \n",
    "\n",
    "Expressions are ; [*,-,+,/]"
   ]
  },
  {
   "cell_type": "markdown",
   "id": "fd62ea55",
   "metadata": {},
   "source": [
    "# 2."
   ]
  },
  {
   "cell_type": "markdown",
   "id": "37b63321",
   "metadata": {},
   "source": [
    "String=String is a data type which can mention by '' or \" \" (invoted comma)\n",
    "\n",
    "variable=Variable is the name of any list,string,tuple,dict to mention them as a single variable"
   ]
  },
  {
   "cell_type": "markdown",
   "id": "9198310c",
   "metadata": {},
   "source": [
    "# 3."
   ]
  },
  {
   "cell_type": "markdown",
   "id": "b6782237",
   "metadata": {},
   "source": [
    "Three data types are i-String,ii-Int,iii-Float ;\n",
    "\n",
    "string=its a data tye which can denoted by write something between ' ' or \" \" ,it can be a word or a number but must be in invoted comma.\n",
    "\n",
    "Integer(int)=Int is a data type which is a whole number does not have fractional and decimal value .\n",
    "\n",
    "Float = Float isi a data type which is a decimal number.\n"
   ]
  },
  {
   "cell_type": "markdown",
   "id": "c1457117",
   "metadata": {},
   "source": [
    "# 4."
   ]
  },
  {
   "cell_type": "markdown",
   "id": "b02b99e8",
   "metadata": {},
   "source": [
    "An Expression is made up of constant,variables,operators,functions etc.\n",
    "\n",
    "Constant=A fixed value or string\n",
    "\n",
    "Variable=A name which contain string,float,int stored in memory and can retriev.\n",
    "\n",
    "operators=Operatrs like arithmatic(-,+,/,*) ,comparision(==,<,>),logical(and,or,not) operators.\n",
    "\n",
    "funstions call = Invocation of a function which return any values these can be in-build functions or user definwd functions."
   ]
  },
  {
   "cell_type": "markdown",
   "id": "bf0c47f3",
   "metadata": {},
   "source": [
    "# 5."
   ]
  },
  {
   "cell_type": "markdown",
   "id": "9ee956c7",
   "metadata": {},
   "source": [
    "Expression  = Expression is made up of ocnstant,variable ,operators etc these are some indicators symbols\n",
    "\n",
    "Statement= Statement is the full line of code which can perform some task and teh line will end with colon or semi coloon like if statement or for loop etc."
   ]
  },
  {
   "cell_type": "markdown",
   "id": "d735fe66",
   "metadata": {},
   "source": [
    "# 6."
   ]
  },
  {
   "cell_type": "code",
   "execution_count": 1,
   "id": "99dd2940",
   "metadata": {},
   "outputs": [
    {
     "data": {
      "text/plain": [
       "23"
      ]
     },
     "execution_count": 1,
     "metadata": {},
     "output_type": "execute_result"
    }
   ],
   "source": [
    "baccon=22\n",
    "\n",
    "baccon+1"
   ]
  },
  {
   "cell_type": "markdown",
   "id": "6e9d9bca",
   "metadata": {},
   "source": [
    "# 7."
   ]
  },
  {
   "cell_type": "code",
   "execution_count": 2,
   "id": "957f585b",
   "metadata": {},
   "outputs": [
    {
     "data": {
      "text/plain": [
       "'spamspamspam'"
      ]
     },
     "execution_count": 2,
     "metadata": {},
     "output_type": "execute_result"
    }
   ],
   "source": [
    "'spam' + 'spamspam'"
   ]
  },
  {
   "cell_type": "code",
   "execution_count": 3,
   "id": "e72535a7",
   "metadata": {},
   "outputs": [
    {
     "data": {
      "text/plain": [
       "'spamspamspam'"
      ]
     },
     "execution_count": 3,
     "metadata": {},
     "output_type": "execute_result"
    }
   ],
   "source": [
    "'spam'*3"
   ]
  },
  {
   "cell_type": "markdown",
   "id": "0a3a9522",
   "metadata": {},
   "source": [
    "# 8."
   ]
  },
  {
   "cell_type": "markdown",
   "id": "d6aa451d",
   "metadata": {},
   "source": [
    "In python we know a variable must start with a letter or underscore but cant be start with an integer thats why eggs is a valid variable name but 100 is not"
   ]
  },
  {
   "cell_type": "markdown",
   "id": "65ef7b78",
   "metadata": {},
   "source": [
    "# 9."
   ]
  },
  {
   "cell_type": "code",
   "execution_count": 5,
   "id": "efe5b870",
   "metadata": {},
   "outputs": [
    {
     "data": {
      "text/plain": [
       "2736.0"
      ]
     },
     "execution_count": 5,
     "metadata": {},
     "output_type": "execute_result"
    }
   ],
   "source": [
    "# convert string to float\n",
    "\n",
    "a=\"2736\"\n",
    "a_float=float(a)\n",
    "a_float"
   ]
  },
  {
   "cell_type": "code",
   "execution_count": 6,
   "id": "303e6336",
   "metadata": {},
   "outputs": [
    {
     "data": {
      "text/plain": [
       "2736"
      ]
     },
     "execution_count": 6,
     "metadata": {},
     "output_type": "execute_result"
    }
   ],
   "source": [
    "# convert string to int\n",
    "\n",
    "a_int=int(a)\n",
    "a_int"
   ]
  },
  {
   "cell_type": "code",
   "execution_count": 7,
   "id": "934602d0",
   "metadata": {},
   "outputs": [
    {
     "data": {
      "text/plain": [
       "'3974'"
      ]
     },
     "execution_count": 7,
     "metadata": {},
     "output_type": "execute_result"
    }
   ],
   "source": [
    "# conert a int to string\n",
    "\n",
    "b=3974\n",
    "b_str=str(b)\n",
    "b_str"
   ]
  },
  {
   "cell_type": "markdown",
   "id": "0792c8f6",
   "metadata": {},
   "source": [
    "# 10."
   ]
  },
  {
   "cell_type": "markdown",
   "id": "a1c7096b",
   "metadata": {},
   "source": [
    "[ 'I have eaten' + 99 +'burritos' ]  this will shows error because two different data type cant be add each other \n",
    "so by covert 99 from int to string then error  will fixed"
   ]
  },
  {
   "cell_type": "code",
   "execution_count": 8,
   "id": "d3559fe0",
   "metadata": {},
   "outputs": [
    {
     "ename": "TypeError",
     "evalue": "can only concatenate str (not \"int\") to str",
     "output_type": "error",
     "traceback": [
      "\u001b[1;31m---------------------------------------------------------------------------\u001b[0m",
      "\u001b[1;31mTypeError\u001b[0m                                 Traceback (most recent call last)",
      "Cell \u001b[1;32mIn[8], line 1\u001b[0m\n\u001b[1;32m----> 1\u001b[0m \u001b[38;5;124;43m'\u001b[39;49m\u001b[38;5;124;43mI have eaten\u001b[39;49m\u001b[38;5;124;43m'\u001b[39;49m\u001b[43m \u001b[49m\u001b[38;5;241;43m+\u001b[39;49m\u001b[43m \u001b[49m\u001b[38;5;241;43m99\u001b[39;49m \u001b[38;5;241m+\u001b[39m\u001b[38;5;124m'\u001b[39m\u001b[38;5;124mburritos\u001b[39m\u001b[38;5;124m'\u001b[39m\n",
      "\u001b[1;31mTypeError\u001b[0m: can only concatenate str (not \"int\") to str"
     ]
    }
   ],
   "source": [
    "# here error will show \n",
    "'I have eaten' + 99 +'burritos' "
   ]
  },
  {
   "cell_type": "code",
   "execution_count": 9,
   "id": "fef8050c",
   "metadata": {},
   "outputs": [
    {
     "data": {
      "text/plain": [
       "'I have eaten99burritos'"
      ]
     },
     "execution_count": 9,
     "metadata": {},
     "output_type": "execute_result"
    }
   ],
   "source": [
    "# here error will fixed \n",
    "'I have eaten' + '99' +'burritos' "
   ]
  },
  {
   "cell_type": "code",
   "execution_count": null,
   "id": "9ca4ddd7",
   "metadata": {},
   "outputs": [],
   "source": []
  }
 ],
 "metadata": {
  "kernelspec": {
   "display_name": "Python 3 (ipykernel)",
   "language": "python",
   "name": "python3"
  },
  "language_info": {
   "codemirror_mode": {
    "name": "ipython",
    "version": 3
   },
   "file_extension": ".py",
   "mimetype": "text/x-python",
   "name": "python",
   "nbconvert_exporter": "python",
   "pygments_lexer": "ipython3",
   "version": "3.10.9"
  }
 },
 "nbformat": 4,
 "nbformat_minor": 5
}
