{
 "cells": [
  {
   "cell_type": "markdown",
   "id": "d7b07085",
   "metadata": {},
   "source": [
    "# 1."
   ]
  },
  {
   "cell_type": "markdown",
   "id": "5051046e",
   "metadata": {},
   "source": [
    "Two values of boolean datatype are : True,False"
   ]
  },
  {
   "cell_type": "markdown",
   "id": "f0fdf2fc",
   "metadata": {},
   "source": [
    "# 2."
   ]
  },
  {
   "cell_type": "markdown",
   "id": "40025ee1",
   "metadata": {},
   "source": [
    "Three boolean operators are : AND,NOT,OR"
   ]
  },
  {
   "cell_type": "markdown",
   "id": "13443070",
   "metadata": {},
   "source": [
    "# 3."
   ]
  },
  {
   "cell_type": "markdown",
   "id": "e7808629",
   "metadata": {},
   "source": [
    "#### FOR AND"
   ]
  },
  {
   "cell_type": "raw",
   "id": "cf31af82",
   "metadata": {},
   "source": [
    "Operand1\tOperand2\tResult\n",
    "\n",
    "FALSE\tFALSE\tFALSE\n",
    "\n",
    "FALSE\tTRUE\tFALSE\n",
    "\n",
    "TRUE\tFALSE\tFALSE\n",
    "\n",
    "TRUE\tTRUE\tTRUE\n"
   ]
  },
  {
   "cell_type": "markdown",
   "id": "be745697",
   "metadata": {},
   "source": [
    "#### FOR NOT"
   ]
  },
  {
   "cell_type": "raw",
   "id": "fab5c457",
   "metadata": {},
   "source": [
    "operand Result\n",
    "\n",
    "False     True\n",
    "\n",
    "True      False"
   ]
  },
  {
   "cell_type": "markdown",
   "id": "df28c293",
   "metadata": {},
   "source": [
    "#### FOR OR"
   ]
  },
  {
   "cell_type": "markdown",
   "id": "8e292a16",
   "metadata": {},
   "source": [
    "Operand1\tOperand2\tResult\n",
    "\n",
    "FALSE   \t  FALSE\t    FALSE\n",
    "\n",
    "FALSE    \t   TRUE  \tTRUE\n",
    "\n",
    "TRUE     \t   FALSE\tTRUE\n",
    "\n",
    "TRUE     \t   TRUE \tTRUE\n"
   ]
  },
  {
   "cell_type": "markdown",
   "id": "41734d7f",
   "metadata": {},
   "source": [
    "# 4."
   ]
  },
  {
   "cell_type": "raw",
   "id": "0a9174a5",
   "metadata": {},
   "source": [
    "1. (5 &gt; 4) and (3 == 5) ans-False\n",
    "2. not (5 > 4)  ans-False\n",
    "3. (5 > 4) or (3 == 5) ans-True\n",
    "4. not ((5 > 4) or (3 == 5)) Ans-False\n",
    "5. (True and True) and (True == False) Ans-False\n",
    "6. (not False) or (not True) Ans-True"
   ]
  },
  {
   "cell_type": "markdown",
   "id": "fb9c281d",
   "metadata": {},
   "source": [
    "# 5."
   ]
  },
  {
   "cell_type": "raw",
   "id": "6132c40e",
   "metadata": {},
   "source": [
    "Six comparison operators are - [==,<,>,!=,<=,>=] for True or False"
   ]
  },
  {
   "cell_type": "markdown",
   "id": "34d7af36",
   "metadata": {},
   "source": [
    "# 6."
   ]
  },
  {
   "cell_type": "code",
   "execution_count": 6,
   "id": "e8500596",
   "metadata": {},
   "outputs": [
    {
     "name": "stdout",
     "output_type": "stream",
     "text": [
      "Not equal\n"
     ]
    }
   ],
   "source": [
    "#Equal to ('==') operators used to check whether two values are equal or not \n",
    "\n",
    "#ex- \n",
    "a=1\n",
    "b=3\n",
    "\n",
    "if a==b:\n",
    "    result=True\n",
    "else:\n",
    "    result= \"Not equal\"\n",
    "    \n",
    "print(result)"
   ]
  },
  {
   "cell_type": "raw",
   "id": "aba5e1c9",
   "metadata": {},
   "source": [
    "assignment operator ('=') used to assign to a value as a variable \n",
    "Ex- my_list=[1,2,3,4,5]\n",
    "\n",
    "Here we used to assign the list as name my_list"
   ]
  },
  {
   "cell_type": "markdown",
   "id": "e8331fd1",
   "metadata": {},
   "source": [
    "# 7."
   ]
  },
  {
   "cell_type": "raw",
   "id": "d2a2338c",
   "metadata": {},
   "source": [
    "7. Identify the three blocks in this code:\\\n",
    "\n",
    "From this code three blocks are :\n",
    "        \n",
    "#First block of code \n",
    "spam = 0\n",
    "if spam == 10:\n",
    "print(\"eggs\")\n",
    "\n",
    "#2nd block of code\n",
    "if spam >5:\n",
    "print(\"bacon\")\n",
    "else:\n",
    "print(\"ham\")\n",
    "\n",
    "#3rd block of code\n",
    "print(\"spam\")\n",
    "print(\"spam\")"
   ]
  },
  {
   "cell_type": "markdown",
   "id": "c9c75ffb",
   "metadata": {},
   "source": [
    "# 8."
   ]
  },
  {
   "cell_type": "code",
   "execution_count": 14,
   "id": "df0956ca",
   "metadata": {},
   "outputs": [
    {
     "name": "stdout",
     "output_type": "stream",
     "text": [
      "Hello\n",
      "Howdy\n"
     ]
    }
   ],
   "source": [
    "spam=[1,2,3,4]\n",
    "\n",
    "if 1 in spam:\n",
    "    print(\"Hello\")\n",
    "if 2 in spam:\n",
    "    print(\"Howdy\")\n",
    "else:\n",
    "    print(\"Greetings!\")"
   ]
  },
  {
   "cell_type": "markdown",
   "id": "7de960b8",
   "metadata": {},
   "source": [
    "# 9."
   ]
  },
  {
   "cell_type": "raw",
   "id": "62f95ed1",
   "metadata": {},
   "source": [
    "I will press ctrl + c for interupt the cell or kernel then the program will stop running"
   ]
  },
  {
   "cell_type": "markdown",
   "id": "19e08a5b",
   "metadata": {},
   "source": [
    "# 10."
   ]
  },
  {
   "cell_type": "raw",
   "id": "cf5ca631",
   "metadata": {},
   "source": [
    "Break = if our programme reach the final result then it will stop running from that point .\n",
    "Continue= If our programme reach the final result then it will continue running after continue statement"
   ]
  },
  {
   "cell_type": "markdown",
   "id": "ea3abc11",
   "metadata": {},
   "source": [
    "# 11."
   ]
  },
  {
   "cell_type": "raw",
   "id": "bf487c15",
   "metadata": {},
   "source": [
    "In for loop range(10),range(0,10),range(0,10,1) no difference between them all are same as they give numbers from 0 to 9 not including 10 increment by 1 stepa."
   ]
  },
  {
   "cell_type": "markdown",
   "id": "662e1a2f",
   "metadata": {},
   "source": [
    "# 12."
   ]
  },
  {
   "cell_type": "code",
   "execution_count": null,
   "id": "e5a46ebc",
   "metadata": {},
   "outputs": [],
   "source": []
  }
 ],
 "metadata": {
  "kernelspec": {
   "display_name": "Python 3 (ipykernel)",
   "language": "python",
   "name": "python3"
  },
  "language_info": {
   "codemirror_mode": {
    "name": "ipython",
    "version": 3
   },
   "file_extension": ".py",
   "mimetype": "text/x-python",
   "name": "python",
   "nbconvert_exporter": "python",
   "pygments_lexer": "ipython3",
   "version": "3.10.9"
  }
 },
 "nbformat": 4,
 "nbformat_minor": 5
}
