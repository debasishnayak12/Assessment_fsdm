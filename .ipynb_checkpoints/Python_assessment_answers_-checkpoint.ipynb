{
 "cells": [
  {
   "cell_type": "markdown",
   "id": "68fcd791",
   "metadata": {},
   "source": [
    "## 1 ."
   ]
  },
  {
   "cell_type": "markdown",
   "id": "850d35ff",
   "metadata": {},
   "source": [
    "Write an efficient algorithm that searches for a value target in an m x n integer matrix. This matrix has the following properties:\n",
    "\n",
    "i-Integers in each row are sorted from right to left.\n",
    "\n",
    "ii-The first integer of each row is greater than the last integer of the previous row.\n",
    "\n",
    "                              Example-: \n",
    "\n",
    "                                        Input: matrix = [[1,3,5,7],[10,11,16,20],[23,30,34,60]], target = 3\n",
    "\n",
    "                                         Output: True\n",
    "\n"
   ]
  },
  {
   "cell_type": "code",
   "execution_count": 4,
   "id": "e75e449e",
   "metadata": {},
   "outputs": [],
   "source": [
    "def searches_target(matrix,target):    # we have created a function to identify target true or not \n",
    "    if not matrix or not matrix[0]:\n",
    "        return False\n",
    "    rows=len(matrix)\n",
    "    cols=len(matrix[0])\n",
    "    \n",
    "    row=0\n",
    "    col=cols-1\n",
    "    while row < rows and  col>=0:\n",
    "        if matrix[row][col] == target:\n",
    "            return True\n",
    "        elif matrix[row][col] < target:\n",
    "            row += 1\n",
    "        else:\n",
    "            col -= 1\n",
    "    \n",
    "    return False\n",
    "    "
   ]
  },
  {
   "cell_type": "code",
   "execution_count": 5,
   "id": "ba38967b",
   "metadata": {},
   "outputs": [],
   "source": [
    "matrix = [[1,3,5,7],[10,11,16,20],[23,30,34,60]]\n",
    "target=3"
   ]
  },
  {
   "cell_type": "code",
   "execution_count": 6,
   "id": "9d6015f3",
   "metadata": {},
   "outputs": [
    {
     "name": "stdout",
     "output_type": "stream",
     "text": [
      "True\n"
     ]
    }
   ],
   "source": [
    "print(searches_target(matrix,target))"
   ]
  },
  {
   "cell_type": "markdown",
   "id": "2f2d4ce9",
   "metadata": {},
   "source": [
    "## 2 ."
   ]
  },
  {
   "cell_type": "markdown",
   "id": "041a9354",
   "metadata": {},
   "source": [
    "  Write a program that takes a string as input, and counts the frequency of each word in the string, there might  be repeated characters in the string. Your task is to find the highest frequency and returns the length of the  highest-frequency word. \n",
    "\n",
    "Note - You have to write at least 2 additional test cases in which your program will run successfully and provide  an explanation for the same.  \n",
    "\n",
    "Example input - string = “write write write all the number from from from 1 to 100” \n",
    "\n",
    "Example output - 5 \n",
    "\n",
    "Explanation - From the given string we can note that the most frequent words are “write” and “from” and  the maximum value of both the values is “write” and its corresponding length is 5 "
   ]
  },
  {
   "cell_type": "code",
   "execution_count": null,
   "id": "a95821bc",
   "metadata": {},
   "outputs": [],
   "source": [
    "def string_count(string):\n",
    "    for i in string :"
   ]
  },
  {
   "cell_type": "code",
   "execution_count": null,
   "id": "063154d3",
   "metadata": {},
   "outputs": [],
   "source": []
  },
  {
   "cell_type": "code",
   "execution_count": 8,
   "id": "af496296",
   "metadata": {},
   "outputs": [],
   "source": [
    "string = \"write write write all the number from from from 1 to 100 \""
   ]
  },
  {
   "cell_type": "code",
   "execution_count": null,
   "id": "8fa90de9",
   "metadata": {},
   "outputs": [],
   "source": []
  },
  {
   "cell_type": "code",
   "execution_count": null,
   "id": "d01e3245",
   "metadata": {},
   "outputs": [],
   "source": []
  }
 ],
 "metadata": {
  "kernelspec": {
   "display_name": "Python 3 (ipykernel)",
   "language": "python",
   "name": "python3"
  },
  "language_info": {
   "codemirror_mode": {
    "name": "ipython",
    "version": 3
   },
   "file_extension": ".py",
   "mimetype": "text/x-python",
   "name": "python",
   "nbconvert_exporter": "python",
   "pygments_lexer": "ipython3",
   "version": "3.10.9"
  }
 },
 "nbformat": 4,
 "nbformat_minor": 5
}
